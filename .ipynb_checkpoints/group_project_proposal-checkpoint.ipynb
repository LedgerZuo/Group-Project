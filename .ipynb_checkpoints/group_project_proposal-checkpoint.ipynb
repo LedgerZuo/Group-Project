{
 "cells": [
  {
   "cell_type": "code",
   "execution_count": 2,
   "id": "6fac83ce-fdfa-4ed5-9810-34feafd43dce",
   "metadata": {},
   "outputs": [],
   "source": [
    "###Testing title"
   ]
  },
  {
   "cell_type": "code",
   "execution_count": null,
   "id": "0fc8a02f-8b2f-47c5-a646-43ce37ab1781",
   "metadata": {},
   "outputs": [],
   "source": []
  }
 ],
 "metadata": {
  "kernelspec": {
   "display_name": "R",
   "language": "R",
   "name": "ir"
  },
  "language_info": {
   "codemirror_mode": "r",
   "file_extension": ".r",
   "mimetype": "text/x-r-source",
   "name": "R",
   "pygments_lexer": "r",
   "version": "4.1.3"
  }
 },
 "nbformat": 4,
 "nbformat_minor": 5
}
