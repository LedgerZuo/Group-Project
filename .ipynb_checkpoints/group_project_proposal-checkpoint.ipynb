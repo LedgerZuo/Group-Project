{
 "cells": [
  {
   "cell_type": "markdown",
   "id": "c8e0a44b-316b-4fdf-9342-e0a4b4227d01",
   "metadata": {},
   "source": [
    "# Testing title"
   ]
  },
  {
   "cell_type": "markdown",
   "id": "dd83fcd9-97b7-429c-86d6-81d62dc58aa8",
   "metadata": {
    "tags": []
   },
   "source": [
    "### Introduction\n",
    "Provide some relevant background information on the topic so that someone unfamiliar with it will be prepared to understand the rest of your proposal\n",
    "\n",
    "Clearly state the question you will try to answer with your project\n",
    "\n",
    "Identify and describe the dataset that will be used to answer the question"
   ]
  },
  {
   "cell_type": "markdown",
   "id": "08748f5e-ef83-4725-9208-a80b999c478f",
   "metadata": {},
   "source": [
    "### Preliminary exploratory data analysis\n",
    "Demonstrate that the dataset can be read from the web into R \n",
    "\n",
    "Clean and wrangle your data into a tidy format\n",
    "\n",
    "**Using only training data**, summarize the data in at least one table (this is exploratory data analysis). An example of a useful table could be one that reports the number of observations in each class, the means of the predictor variables you plan to use in your analysis and how many rows have missing data. \n",
    "\n",
    "**Using only training data**, visualize the data with at least one plot relevant to the analysis you plan to do (this is exploratory data analysis). An example of a useful visualization could be one that compares the distributions of each of the predictor variables you plan to use in your analysis."
   ]
  },
  {
   "cell_type": "markdown",
   "id": "353141e2-c4ca-465a-abb5-a13419efacb5",
   "metadata": {},
   "source": [
    "### Methods\n",
    "Explain how you will conduct either your data analysis and which variables/columns you will use.\n",
    "\n",
    "<u> Note - you do not need to use all variables/columns that exist in the raw data set. In fact, that's often not a good idea. For each variable think: is this a useful variable for prediction? </u>\n",
    "\n",
    "Describe at least one way that you will visualize the results"
   ]
  },
  {
   "cell_type": "markdown",
   "id": "50072cfb-93bf-43ad-963a-674cb49a4d45",
   "metadata": {},
   "source": [
    "### Expected outcomes and significance:\n",
    "\n",
    "What do you expect to find?\n",
    "\n",
    "What impact could such findings have?\n",
    "\n",
    "What future questions could this lead to?"
   ]
  },
  {
   "cell_type": "code",
   "execution_count": null,
   "id": "797026d3-ab16-4c4a-92d6-74d75cc41941",
   "metadata": {},
   "outputs": [],
   "source": []
  }
 ],
 "metadata": {
  "kernelspec": {
   "display_name": "R",
   "language": "R",
   "name": "ir"
  },
  "language_info": {
   "codemirror_mode": "r",
   "file_extension": ".r",
   "mimetype": "text/x-r-source",
   "name": "R",
   "pygments_lexer": "r",
   "version": "4.1.3"
  }
 },
 "nbformat": 4,
 "nbformat_minor": 5
}
